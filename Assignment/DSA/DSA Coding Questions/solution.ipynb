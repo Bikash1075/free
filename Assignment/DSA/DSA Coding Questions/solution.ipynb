{
 "cells": [
  {
   "cell_type": "markdown",
   "metadata": {},
   "source": [
    "Write a Python Program to print half pyramid using alphabets. \n",
    "The pattern should be as shown below:\n",
    "\n",
    "A\n",
    "\n",
    "B B\n",
    "\n",
    "C C C\n",
    "\n",
    "D D D D\n",
    "\n",
    "E E E E E"
   ]
  },
  {
   "cell_type": "code",
   "execution_count": 3,
   "metadata": {},
   "outputs": [
    {
     "name": "stdout",
     "output_type": "stream",
     "text": [
      "A \n",
      "\n",
      "B B \n",
      "\n",
      "C C C \n",
      "\n",
      "D D D D \n",
      "\n",
      "E E E E E \n",
      "\n"
     ]
    }
   ],
   "source": [
    "s='ABCDE'\n",
    "for i in range(len(s)):\n",
    "    for j in range(1,i+2):\n",
    "        print(s[i],end=' ')\n",
    "    print()\n",
    "    print()\n",
    "    \n",
    "   \n",
    "    \n"
   ]
  },
  {
   "cell_type": "code",
   "execution_count": 2,
   "metadata": {},
   "outputs": [
    {
     "name": "stdout",
     "output_type": "stream",
     "text": [
      "A \n",
      "\n",
      "B B \n",
      "\n",
      "C C C \n",
      "\n",
      "D D D D \n",
      "\n",
      "E E E E E \n",
      "\n"
     ]
    }
   ],
   "source": [
    "for  i in range (65,70):\n",
    "    for j in range(65,i+1):\n",
    "        print(chr(i),end=' ')\n",
    "    print()\n",
    "    print()"
   ]
  },
  {
   "attachments": {},
   "cell_type": "markdown",
   "metadata": {},
   "source": [
    "Write a Python Program to print full pyramid using '*' symbol. The pattern should be as shown below:\n",
    "\n",
    "*\n",
    "\n",
    "* * *\n",
    "\n",
    "* * * * *\n",
    "\n",
    "* * * * * * *\n",
    "\n",
    "* * * * * * * * *"
   ]
  },
  {
   "cell_type": "code",
   "execution_count": 2,
   "metadata": {},
   "outputs": [
    {
     "name": "stdout",
     "output_type": "stream",
     "text": [
      "* \n",
      "\n",
      "* * * \n",
      "\n",
      "* * * * * \n",
      "\n",
      "* * * * * * * \n",
      "\n",
      "* * * * * * * * * \n",
      "\n"
     ]
    }
   ],
   "source": [
    "n=5\n",
    "for i in range(1,n+1):\n",
    "    for j in range(1,2*i):\n",
    "        print('*', end=' ')\n",
    "    print()\n",
    "    print()"
   ]
  },
  {
   "cell_type": "code",
   "execution_count": 1,
   "metadata": {},
   "outputs": [
    {
     "name": "stdout",
     "output_type": "stream",
     "text": [
      "* \n",
      "\n",
      "* * * \n",
      "\n",
      "* * * * * \n",
      "\n",
      "* * * * * * * \n",
      "\n",
      "* * * * * * * * * \n",
      "\n"
     ]
    }
   ],
   "source": [
    "# solution2\n",
    "n=5\n",
    "for i in range(0,n):\n",
    "    print('* '*(2*i+1))\n",
    "    print()"
   ]
  },
  {
   "cell_type": "markdown",
   "metadata": {},
   "source": [
    "Take a number as input from the user. Print the number in reversed order. For example, for input 567, output should be: 765"
   ]
  },
  {
   "cell_type": "code",
   "execution_count": null,
   "metadata": {},
   "outputs": [],
   "source": [
    "# solution 1\n",
    "n= 567\n",
    "rev=0\n",
    "while n!=0:\n",
    "    rem=n%10\n",
    "    rev=rev*10+rem\n",
    "    n=n//10\n",
    "print(rev)"
   ]
  },
  {
   "cell_type": "code",
   "execution_count": null,
   "metadata": {},
   "outputs": [],
   "source": [
    "# solution 2\n",
    "n=567\n",
    "rev=0\n",
    "for i in range(len(str(n))):\n",
    "    rem = n%10\n",
    "    rev=rev*10+rem\n",
    "    n=n//10\n",
    "print(rev)"
   ]
  },
  {
   "cell_type": "markdown",
   "metadata": {},
   "source": [
    "Given an array arr[] of integers. Find a peak element i.e. an element that is not smaller than its neighbors. \n",
    "\n",
    "Note: For corner elements, we need to consider only one neighbor. \n",
    "\n",
    "Example:\n",
    "\n",
    "Input: array[]= {5, 10, 20, 15}\n",
    "\n",
    "Output: 20\n",
    "\n",
    "Explanation: The element 20 has neighbors 10 and 15, both of them are less than 20.\n",
    "\n",
    "Input: array[] = {10, 20, 15, 2, 23, 90, 67}\n",
    "\n",
    "Output: 20 or 90\n",
    "\n",
    "Explanation: The element 20 has neighbors 10 and 15, both of them are less than 20, similarly 90 has neighbors 23 and 67."
   ]
  },
  {
   "cell_type": "code",
   "execution_count": 3,
   "metadata": {},
   "outputs": [
    {
     "name": "stdout",
     "output_type": "stream",
     "text": [
      "20\n",
      "90\n"
     ]
    }
   ],
   "source": [
    "def peak_element(arr,n):\n",
    "    for i in range(n):\n",
    "        if arr[i]>arr[i-1] and arr[i+1]<arr[i]:\n",
    "            print(arr[i])\n",
    "arr=[10, 20, 15, 2, 23, 90, 67]\n",
    "n=len(arr)\n",
    "peak_element(arr,n)\n"
   ]
  },
  {
   "cell_type": "code",
   "execution_count": 4,
   "metadata": {},
   "outputs": [
    {
     "name": "stdout",
     "output_type": "stream",
     "text": [
      "20\n",
      "90\n"
     ]
    }
   ],
   "source": [
    "def top(arr,n):\n",
    "    for i in range(1,n-1):\n",
    "        if arr[i]>arr[i-1] and arr[i]>arr[i+1]:\n",
    "            if arr[i]==arr[n-1]:\n",
    "                pass\n",
    "            else:\n",
    "                print(arr[i])\n",
    "arr=[10, 20, 15, 2, 23, 90, 67]\n",
    "n=len(arr)\n",
    "top(arr,n)"
   ]
  },
  {
   "cell_type": "code",
   "execution_count": 5,
   "metadata": {},
   "outputs": [
    {
     "name": "stdout",
     "output_type": "stream",
     "text": [
      "20\n",
      "90\n"
     ]
    }
   ],
   "source": [
    "def peak_element(arr,n):\n",
    "    for i in range(1,n):\n",
    "        if arr[i] > arr[i - 1] and arr[i] > arr[i + 1]:\n",
    "            print (arr[i])\n",
    "arr=[10, 20, 15, 2, 23, 90, 67]\n",
    "n = len(arr)\n",
    "peak_element(arr,n)"
   ]
  },
  {
   "cell_type": "markdown",
   "metadata": {},
   "source": [
    "Given an array, cyclically rotate the array clockwise by one. \n",
    "\n",
    "Examples:  \n",
    "\n",
    "Input: arr[] = {1, 2, 3, 4, 5}\n",
    "\n",
    "Output: arr[] = {5, 1, 2, 3, 4}"
   ]
  },
  {
   "cell_type": "code",
   "execution_count": 6,
   "metadata": {},
   "outputs": [
    {
     "data": {
      "text/plain": [
       "[5, 1, 2, 3, 4]"
      ]
     },
     "execution_count": 6,
     "metadata": {},
     "output_type": "execute_result"
    }
   ],
   "source": [
    "def rotation_by_one(arr,n):\n",
    "    temp=[]\n",
    "    for i in range(n):\n",
    "        temp.append(arr[i-1])\n",
    "    arr=temp[:]\n",
    "    return(arr)\n",
    "arr=[1, 2, 3, 4, 5]\n",
    "n=len(arr)\n",
    "rotation_by_one(arr,n)"
   ]
  },
  {
   "cell_type": "code",
   "execution_count": 8,
   "metadata": {},
   "outputs": [
    {
     "data": {
      "text/plain": [
       "[46, 45, 15, 48, 79, 46, 46]"
      ]
     },
     "execution_count": 8,
     "metadata": {},
     "output_type": "execute_result"
    }
   ],
   "source": [
    "def rotate_by_one(arr,n):\n",
    "    a=arr[n-1]\n",
    "    for i in range(1,n-1):\n",
    "        arr[i]=arr[i+1]\n",
    "    arr[0]=a\n",
    "    return arr\n",
    "arr=[25,78,45,15,48,79,46]\n",
    "n= len(arr)\n",
    "rotate_by_one(arr,n)"
   ]
  },
  {
   "cell_type": "markdown",
   "metadata": {},
   "source": [
    "Given an array of integers, find the length of the longest sub-sequence such that elements in the subsequence are consecutive integers, the consecutive numbers can be in any order. \n",
    "\n",
    "Examples:  \n",
    "\n",
    "Input: arr[] = {1, 9, 3, 10, 4, 20, 2}\n",
    "\n",
    "Output: 4\n",
    "\n",
    "Explanation: The subsequence 1, 3, 4, 2 is the longest subsequence of consecutive elements\n",
    "\n",
    "Input: arr[] = {36, 41, 56, 35, 44, 33, 34, 92, 43, 32, 42}\n",
    "\n",
    "Output: 5\n",
    "\n",
    "Explanation: The subsequence 36, 35, 33, 34, 32 is the longest subsequence of consecutive elements.\n",
    "\n"
   ]
  },
  {
   "cell_type": "code",
   "execution_count": null,
   "metadata": {},
   "outputs": [],
   "source": [
    "arr = [36, 41, 56, 35, 44, 33, 34, 92, 43, 32, 42]\n",
    "arr.sort()\n",
    "seq = []\n",
    "for i in range(1,len(arr)):\n",
    "    if 0 < arr[i]-arr[i-1] < 3:\n",
    "        seq.append(arr[i-1])\n",
    "        seq.append(arr[i])\n",
    "    else:\n",
    "        break\n",
    "\n",
    "print(len(set(seq)))\n",
    "print(set(seq))"
   ]
  },
  {
   "cell_type": "code",
   "execution_count": 1,
   "metadata": {},
   "outputs": [
    {
     "data": {
      "text/plain": [
       "(5, {32, 33, 34, 35, 36})"
      ]
     },
     "execution_count": 1,
     "metadata": {},
     "output_type": "execute_result"
    }
   ],
   "source": [
    "def long_run(arr,n):\n",
    "    seq=[]\n",
    "    arr.sort()\n",
    "    count=0\n",
    "    for i in range(n):\n",
    "        if arr[i+1]-arr[i] ==1:\n",
    "            seq.append(arr[i])\n",
    "            seq.append(arr[i+1])\n",
    "        else:\n",
    "            break\n",
    "    for  i in range(len(set(seq))):\n",
    "        count=count+1\n",
    "    return(count),set(seq)\n",
    "arr=[36, 41, 56, 35, 44, 33, 34, 92, 43, 32, 42]\n",
    "n = len(arr)\n",
    "long_run(arr,n)"
   ]
  }
 ],
 "metadata": {
  "kernelspec": {
   "display_name": "Python 3.10.7 64-bit",
   "language": "python",
   "name": "python3"
  },
  "language_info": {
   "codemirror_mode": {
    "name": "ipython",
    "version": 3
   },
   "file_extension": ".py",
   "mimetype": "text/x-python",
   "name": "python",
   "nbconvert_exporter": "python",
   "pygments_lexer": "ipython3",
   "version": "3.10.7"
  },
  "orig_nbformat": 4,
  "vscode": {
   "interpreter": {
    "hash": "26de051ba29f2982a8de78e945f0abaf191376122a1563185a90213a26c5da77"
   }
  }
 },
 "nbformat": 4,
 "nbformat_minor": 2
}
