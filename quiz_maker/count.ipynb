{
 "cells": [
  {
   "cell_type": "code",
   "execution_count": 5,
   "metadata": {},
   "outputs": [
    {
     "data": {
      "text/plain": [
       "102"
      ]
     },
     "execution_count": 5,
     "metadata": {},
     "output_type": "execute_result"
    }
   ],
   "source": [
    "len('''01.What is the most popular sport throughout the world? A.Soccer B.Cricket C.Volleyball D.Football 104''')"
   ]
  },
  {
   "cell_type": "code",
   "execution_count": null,
   "metadata": {},
   "outputs": [],
   "source": []
  },
  {
   "attachments": {},
   "cell_type": "markdown",
   "metadata": {},
   "source": [
    "01.What is the most popular sport throughout the world? A.Soccer B.Cricket C.Volleyball D.Football \n",
    "02.How many cards are there in a complete pack of cards? A.20 B.32 C.40 D.52 \n",
    "03.What is the place where books are kept called?A.Zoo B.Library C.Garden D.Museum \n",
    "04.How many planets are there in our solar system? A.7 B.8 C.9 D.5 \n",
    "05.How many digits are there in Mathematics? A.Hundred B.Thousand C.Billion D.Infinite \n",
    "06.What is the 15th letter of the English alphabet? A.F B.I C.M D.O \n",
    "07.Which was the occupation or job of the following famous people: Leonardo da Vinci, Pablo Picasso, Vincent Van Gogh? A.Musician B.Painter C.Carpenter D.Dancers \n",
    "08.Which of the following birds is known for its intelligence? A.Owl B.Kingfisher C.Sparrow D.Crow \n",
    "09.Which one is not amongst the Seven Wonders of the World? A.Mecca Madina B.Statue of Liberty C.Taj Mahal D.The Great Wall of China \n",
    "10.Can you name the country from where Parmesan cheese comes? A.India B.China C.Italy D.France \n",
    "11.There are 31 days in May. A.True B.False \n",
    "12.Half of 250 is 75. A.False B.True \n",
    "13.Plants absorb Carbon dioxide. A.True B.False \n",
    "14.8 o’clock in the evening is written as 8 pm. A.False B.True \n",
    "15.An ostrich’s eye is bigger than its brain. A.True B.False \n",
    "16.William Shakespeare is a scientist. A.True B.False  \n",
    "17.Humans have four hearts. A.False B.True \n",
    "18.There are over 330 different dog breeds in the world. A.True B.False \n",
    "19.Electrons are larger than molecules. A.False B.True \n",
    "20.Watermelons are originally from Australia. A.True B.False \n",
    "21.Dodo is an endangered bird. A.False B.True \n",
    "22.There are 11 players in a cricket team. A.True B.False \n",
    "23.Bubble gum contains rubber. A.True B.False \n",
    "24.Adult dogs and adult humans have the same number of teeth. A.False B.True 80 \n",
    "25.The deadliest earthquake of 2017 took place in Iran and Iraq. A.True B.False \n",
    "26.Medicine, Injection, Ointment, Laptop A.Medicine B.Laptop C.Injection D.Ointment \n",
    "27.Hammer, Blacksmith, Carpenter, Cobbler A.Hammer B.Carpenter C.Cobbler D.Blacksmith \n",
    "28.Cabbage, Potato, Capsicum, Tomato A.Potato B.Cabbage C.Capsicum D.Tomato \n",
    "29.Knife, Poison, Gun, Books A.Knife B.Books C.Poison D.Gun \n",
    "30.Earrings, Necklace, Wood, Bracelet A.Bracelet B.Necklace C.Earrings D.Wood \n",
    "31.Theater, Ticket, Movie, School A.Ticket B.Theater C.School D.Movie \n",
    "32.Paper, Poster, Book, Rug A.Poster B.Paper C.Book D.Rug \n",
    "33.Carrot, Mango, Banana, Apple A.Banana B.Mango C.Carrot D.Apple \n",
    "34.Ball, Bat, Stump, Hockey stick A.Stump B.Bat C.Ball D.Hockey stick \n",
    "35.Television, History, Science, Math A.Science B.History C.Television D.Math \n",
    "36.How many bones do an adult human have? A.150 B.108 C.206 \n",
    "37.Which number is known as the Ramanujan number? A.1654 B.1525 C.1729 \n",
    "38.Who is known as the father of Mathematics? A.Archimedes B.Galilio \n",
    "39.Which planet is known as the ‘Dwarf Planet’? A.Earth B.Saturn C.Mars D.Pluto \n",
    "40.What makes up (approx.) 80% of our brain’s volume? A.Water B.Food \n",
    "41.Which language is used by the computer to process data? A.Common language B.Binary language \n",
    "42. Which continent is known as the ‘Dark’ continent? A.Asia B.Africa C.Australia \n",
    "43.Which is the largest animal on land? A.Lion B.Tiger C.African Elephant"
   ]
  }
 ],
 "metadata": {
  "kernelspec": {
   "display_name": "Python 3",
   "language": "python",
   "name": "python3"
  },
  "language_info": {
   "codemirror_mode": {
    "name": "ipython",
    "version": 3
   },
   "file_extension": ".py",
   "mimetype": "text/x-python",
   "name": "python",
   "nbconvert_exporter": "python",
   "pygments_lexer": "ipython3",
   "version": "3.10.7"
  },
  "orig_nbformat": 4,
  "vscode": {
   "interpreter": {
    "hash": "26de051ba29f2982a8de78e945f0abaf191376122a1563185a90213a26c5da77"
   }
  }
 },
 "nbformat": 4,
 "nbformat_minor": 2
}
